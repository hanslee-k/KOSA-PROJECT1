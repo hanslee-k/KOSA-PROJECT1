{
 "cells": [
  {
   "cell_type": "markdown",
   "metadata": {},
   "source": [
    "# 특징추출"
   ]
  },
  {
   "cell_type": "code",
   "execution_count": 1,
   "metadata": {
    "ExecuteTime": {
     "end_time": "2020-06-30T01:59:53.993825Z",
     "start_time": "2020-06-30T01:59:53.878819Z"
    }
   },
   "outputs": [],
   "source": [
    "import cv2"
   ]
  },
  {
   "cell_type": "code",
   "execution_count": null,
   "metadata": {
    "ExecuteTime": {
     "end_time": "2020-06-30T01:59:54.053829Z",
     "start_time": "2020-06-30T01:59:52.731Z"
    }
   },
   "outputs": [],
   "source": [
    "def img_pro(func, img, *args, output=True, **kwargs):\n",
    "    img_ = func(img, *args, **kwargs)\n",
    "    if output:\n",
    "        cv2.imshow(\"Image\",img_)\n",
    "        cv2.waitKey()\n",
    "        cv2.destroyAllWindows()\n",
    "    else:\n",
    "        return img_"
   ]
  },
  {
   "cell_type": "code",
   "execution_count": null,
   "metadata": {
    "ExecuteTime": {
     "end_time": "2020-06-30T01:59:54.056829Z",
     "start_time": "2020-06-30T01:59:53.049Z"
    }
   },
   "outputs": [],
   "source": [
    "def img_pro2(func, img, *args, show=True, win=False, **kwargs):\n",
    "    img_=func(img, *args, **kwargs)\n",
    "    if show:\n",
    "        if win:\n",
    "            cv2.imshow(\"Image\",img_)\n",
    "            cv2.waitKey()\n",
    "            cv2.destroyAllWindows()\n",
    "        else:\n",
    "            fig, axes = plt.subplots(1,2)\n",
    "            axes[0].imshow(img, cmap=\"gray\")\n",
    "            axes[0].axis(\"off\"); axes[0].set_title(\"origin\")\n",
    "            axes[1].imshow(img_, cmap=\"gray\", interpolation=None)\n",
    "            axes[1].axis(\"off\"); axes[1].set_title(\"target\")\n",
    "    else:\n",
    "           return img_"
   ]
  },
  {
   "cell_type": "markdown",
   "metadata": {},
   "source": [
    "## Contour"
   ]
  },
  {
   "cell_type": "markdown",
   "metadata": {},
   "source": [
    "### labeling"
   ]
  },
  {
   "cell_type": "code",
   "execution_count": 2,
   "metadata": {
    "ExecuteTime": {
     "end_time": "2020-06-30T01:59:54.874876Z",
     "start_time": "2020-06-30T01:59:54.841874Z"
    }
   },
   "outputs": [],
   "source": [
    "def labelset(img, xs, ys, label):\n",
    "    height, width = img.shape\n",
    "    img[ys, xs] = label\n",
    "    while True:\n",
    "        cnt = 0\n",
    "        \n",
    "        for y in range(1, height-1):\n",
    "            for x in range(1, width-1):\n",
    "                if img[y,x] == label:\n",
    "                    if img[y, x+1]  == 255:\n",
    "                        img[y, x+1]  = label\n",
    "                        cnt = cnt+1\n",
    "                    if img[y-1, x+1]  == 255:\n",
    "                        img[y-1, x+1]  = label\n",
    "                        cnt = cnt+1\n",
    "                    if img[y-1, x]  == 255:\n",
    "                        img[y-1, x]  = label\n",
    "                        cnt = cnt+1\n",
    "                    if img[y-1, x-1]  == 255:\n",
    "                        img[y-1, x-1]  = label\n",
    "                        cnt = cnt+1\n",
    "                    if img[y, x-1]  == 255:\n",
    "                        img[y, x-1]  = label\n",
    "                        cnt = cnt+1\n",
    "                    if img[y+1, x-1]  == 255:\n",
    "                        img[y+1, x-1]  = label\n",
    "                        cnt = cnt+1\n",
    "                    if img[y+1, x]  == 255:\n",
    "                        img[y+1, x]  = label\n",
    "                        cnt = cnt+1\n",
    "                    if img[y+1, x+1]  == 255:\n",
    "                        img[y+1, x+1]  = label\n",
    "                        cnt = cnt+1\n",
    "                        \n",
    "        if cnt==0:\n",
    "            return (0,img)\n",
    "    return (1,img)"
   ]
  },
  {
   "cell_type": "code",
   "execution_count": 12,
   "metadata": {
    "ExecuteTime": {
     "end_time": "2020-06-30T02:29:30.866457Z",
     "start_time": "2020-06-30T02:29:30.848456Z"
    }
   },
   "outputs": [],
   "source": [
    "def labeling(img_in, cnt):\n",
    "    height, width = img_in.shape\n",
    "    img_label = img_in.copy()\n",
    "    \n",
    "    label = 100\n",
    "    \n",
    "    for y in range(1, height-1):\n",
    "            for x in range(1, width-1):\n",
    "                if img_label[y,x] == 255:\n",
    "                    if label >= 255:\n",
    "                        print(\"Error! too many labels\")\n",
    "                        return -1\n",
    "                    \n",
    "                    _, img_label = labelset(img_label, x, y , label)\n",
    "                    label = label +1\n",
    "                \n",
    "    cnt = label -100\n",
    "    \n",
    "    return img_label,cnt"
   ]
  },
  {
   "cell_type": "code",
   "execution_count": 13,
   "metadata": {
    "ExecuteTime": {
     "end_time": "2020-06-30T02:29:33.098584Z",
     "start_time": "2020-06-30T02:29:31.104470Z"
    }
   },
   "outputs": [],
   "source": [
    "img = cv2.imread('shape.png',0)\n",
    "cv2.imshow('image',img)\n",
    "cv2.waitKey(0)\n",
    "cv2.destroyAllWindows()"
   ]
  },
  {
   "cell_type": "code",
   "execution_count": 14,
   "metadata": {
    "ExecuteTime": {
     "end_time": "2020-06-30T02:29:35.116700Z",
     "start_time": "2020-06-30T02:29:33.428603Z"
    }
   },
   "outputs": [
    {
     "data": {
      "text/plain": [
       "3"
      ]
     },
     "execution_count": 14,
     "metadata": {},
     "output_type": "execute_result"
    }
   ],
   "source": [
    "img = cv2.imread('shape.png',0)\n",
    "ret, bin_img = cv2.threshold(img,128,255,cv2.THRESH_BINARY)\n",
    "labeled_img, cnt = labeling(bin_img, 100)\n",
    "cnt"
   ]
  },
  {
   "cell_type": "code",
   "execution_count": 16,
   "metadata": {
    "ExecuteTime": {
     "end_time": "2020-06-30T02:29:49.402517Z",
     "start_time": "2020-06-30T02:29:49.389516Z"
    }
   },
   "outputs": [
    {
     "data": {
      "text/plain": [
       "(100, 101, 102)"
      ]
     },
     "execution_count": 16,
     "metadata": {},
     "output_type": "execute_result"
    }
   ],
   "source": [
    "labeled_img[80,100] , labeled_img[160,190], labeled_img[160,60]"
   ]
  },
  {
   "cell_type": "code",
   "execution_count": 18,
   "metadata": {
    "ExecuteTime": {
     "end_time": "2020-06-30T02:30:05.944463Z",
     "start_time": "2020-06-30T02:30:03.557326Z"
    }
   },
   "outputs": [],
   "source": [
    "cv2.imshow('image',labeled_img)\n",
    "cv2.waitKey(0)\n",
    "cv2.destroyAllWindows()"
   ]
  },
  {
   "cell_type": "code",
   "execution_count": 19,
   "metadata": {
    "ExecuteTime": {
     "end_time": "2020-06-30T02:30:06.374488Z",
     "start_time": "2020-06-30T02:30:06.366487Z"
    }
   },
   "outputs": [
    {
     "data": {
      "text/plain": [
       "True"
      ]
     },
     "execution_count": 19,
     "metadata": {},
     "output_type": "execute_result"
    }
   ],
   "source": [
    "cv2.imwrite('shape_labeled.png', labeled_img)"
   ]
  },
  {
   "cell_type": "code",
   "execution_count": 20,
   "metadata": {
    "ExecuteTime": {
     "end_time": "2020-06-30T02:30:07.086528Z",
     "start_time": "2020-06-30T02:30:07.043526Z"
    }
   },
   "outputs": [],
   "source": [
    "img = cv2.imread('sample.png',0)\n",
    "ret, bin_img = cv2.threshold(img, 128, 255, cv2.THRESH_BINARY)\n",
    "cnt, labled_img = cv2.connectedComponents(bin_img)"
   ]
  },
  {
   "cell_type": "code",
   "execution_count": 21,
   "metadata": {
    "ExecuteTime": {
     "end_time": "2020-06-30T02:30:07.650561Z",
     "start_time": "2020-06-30T02:30:07.637560Z"
    }
   },
   "outputs": [
    {
     "data": {
      "text/plain": [
       "(100, 101, 102)"
      ]
     },
     "execution_count": 21,
     "metadata": {},
     "output_type": "execute_result"
    }
   ],
   "source": [
    "labeled_img[80,100] , labeled_img[160,190], labeled_img[160,60]"
   ]
  },
  {
   "cell_type": "code",
   "execution_count": 22,
   "metadata": {
    "ExecuteTime": {
     "end_time": "2020-06-30T02:30:08.281597Z",
     "start_time": "2020-06-30T02:30:08.270596Z"
    }
   },
   "outputs": [
    {
     "data": {
      "text/plain": [
       "dtype('uint8')"
      ]
     },
     "execution_count": 22,
     "metadata": {},
     "output_type": "execute_result"
    }
   ],
   "source": [
    "labeled_img.dtype"
   ]
  },
  {
   "cell_type": "code",
   "execution_count": 23,
   "metadata": {
    "ExecuteTime": {
     "end_time": "2020-06-30T02:30:08.991637Z",
     "start_time": "2020-06-30T02:30:08.983637Z"
    }
   },
   "outputs": [],
   "source": [
    "labeled_img = labeled_img * 50"
   ]
  },
  {
   "cell_type": "code",
   "execution_count": 25,
   "metadata": {
    "ExecuteTime": {
     "end_time": "2020-06-30T02:30:17.521125Z",
     "start_time": "2020-06-30T02:30:16.059042Z"
    }
   },
   "outputs": [],
   "source": [
    "cv2.imshow('image',labeled_img.astype(np.uint8))\n",
    "cv2.waitKey(0)\n",
    "cv2.destroyAllWindows()"
   ]
  },
  {
   "cell_type": "markdown",
   "metadata": {},
   "source": [
    "### 면적과 중심 위치"
   ]
  },
  {
   "cell_type": "code",
   "execution_count": 26,
   "metadata": {
    "ExecuteTime": {
     "end_time": "2020-06-30T02:30:19.455236Z",
     "start_time": "2020-06-30T02:30:19.443235Z"
    }
   },
   "outputs": [],
   "source": [
    "def calc_size(image_label, label):\n",
    "    tx, ty = 0, 0\n",
    "    cv, cy = 0, 0\n",
    "    total = 0\n",
    "    height, width = image_label.shape\n",
    "    for y in range(height):\n",
    "        for x in range(width):\n",
    "            if image_label[y,x] == label:\n",
    "                tx = tx + x\n",
    "                ty = ty + y\n",
    "                total = total +1\n",
    "    if total == 0:\n",
    "        return 0\n",
    "    cx = int(tx/total)\n",
    "    cy = int(ty/total)\n",
    "    \n",
    "    return (cx, cy, total)"
   ]
  },
  {
   "cell_type": "code",
   "execution_count": 27,
   "metadata": {
    "ExecuteTime": {
     "end_time": "2020-06-30T02:30:21.942378Z",
     "start_time": "2020-06-30T02:30:19.984266Z"
    }
   },
   "outputs": [
    {
     "name": "stdout",
     "output_type": "stream",
     "text": [
      "114 79 4880\n",
      "192 168 1108\n",
      "81 163 2759\n"
     ]
    }
   ],
   "source": [
    "img = cv2.imread('shape.png', 0)\n",
    "ret, bin_img = cv2.threshold(img, 128, 255, cv2.THRESH_BINARY)\n",
    "labeled_img, cnt = labeling(bin_img, 100)\n",
    "for i in range(cnt):\n",
    "    cx, cy, area = calc_size(labeled_img, i+100)\n",
    "    print(cx, cy, area)"
   ]
  },
  {
   "cell_type": "markdown",
   "metadata": {},
   "source": [
    "### 주위 길이"
   ]
  },
  {
   "cell_type": "code",
   "execution_count": 37,
   "metadata": {
    "ExecuteTime": {
     "end_time": "2020-06-30T03:39:00.088923Z",
     "start_time": "2020-06-30T03:39:00.048920Z"
    }
   },
   "outputs": [],
   "source": [
    "def trace(image_label, xs, ys):\n",
    "    length = 0\n",
    "    x, y =xs, ys\n",
    "    no = image_label[y,x+1]\n",
    "    vec = 5\n",
    "    \n",
    "    while True:\n",
    "        if (x==xs) & (y==ys) & (length !=0):\n",
    "            return length\n",
    "        image_label[y,x] = 255\n",
    "        \n",
    "        if vec ==3:\n",
    "            if (image_label[y, x+1] != no) & (image_label[y-1, x+1] == no):\n",
    "                x=x+1\n",
    "                y= y\n",
    "                length = length+1\n",
    "                vec = 0\n",
    "                continue\n",
    "            else:\n",
    "                vec = 4\n",
    "        if vec ==4:\n",
    "            if (image_label[y-1, x+1] != no) & (image_label[y-1, x] == no):\n",
    "                x=x+1\n",
    "                y= y-1\n",
    "                length = length+np.sqrt(2)\n",
    "                vec = 1\n",
    "                continue\n",
    "            else:\n",
    "                vec = 5\n",
    "        if vec ==5:\n",
    "            if (image_label[y-1, x] != no) & (image_label[y-1, x-1] == no):\n",
    "                x=x\n",
    "                y= y-1\n",
    "                length = length+1\n",
    "                vec = 2\n",
    "                continue\n",
    "            else:\n",
    "                vec = 6\n",
    "        if vec ==6:\n",
    "            if (image_label[y-1, x-1] != no) & (image_label[y, x-1] == no):\n",
    "                x=x-1\n",
    "                y= y-1\n",
    "                length = length+np.sqrt(2)\n",
    "                vec = 3\n",
    "                continue\n",
    "            else:\n",
    "                vec = 7\n",
    "        if vec ==7:\n",
    "            if (image_label[y, x-1] != no) & (image_label[y+1, x-1] == no):\n",
    "                x=x-1\n",
    "                y= y\n",
    "                length = length+1\n",
    "                vec = 4\n",
    "                continue\n",
    "            else:\n",
    "                vec = 0\n",
    "        if vec ==0:\n",
    "            if (image_label[y+1, x-1] != no) & (image_label[y+1, x] == no):\n",
    "                x=x-1\n",
    "                y= y+1\n",
    "                length = length+np.sqrt(2)\n",
    "                vec = 5\n",
    "                continue\n",
    "            else:\n",
    "                vec = 1\n",
    "        if vec ==1:\n",
    "            if (image_label[y+1, x] != no) & (image_label[y+1, x+1] == no):\n",
    "                x=x\n",
    "                y= y+1\n",
    "                length = length+1\n",
    "                vec = 6\n",
    "                continue\n",
    "            else:\n",
    "                vec = 2\n",
    "        if vec ==2:\n",
    "            if (image_label[y+1, x+1] != no) & (image_label[y, x+1] == no):\n",
    "                x=x+1\n",
    "                y= y+1\n",
    "                length = length+np.sqrt(2)\n",
    "                vec = 7\n",
    "                continue\n",
    "            else:\n",
    "                vec = 3"
   ]
  },
  {
   "cell_type": "code",
   "execution_count": 38,
   "metadata": {
    "ExecuteTime": {
     "end_time": "2020-06-30T03:39:00.316936Z",
     "start_time": "2020-06-30T03:39:00.308935Z"
    }
   },
   "outputs": [],
   "source": [
    "def calc_length(image_label, label):\n",
    "    height, width = image_label.shape\n",
    "    for y in range(height):\n",
    "        for x in range(width):\n",
    "            if image_label[y,x] == label:\n",
    "                length = trace(image_label, x-1, y)\n",
    "                return length"
   ]
  },
  {
   "cell_type": "code",
   "execution_count": 39,
   "metadata": {
    "ExecuteTime": {
     "end_time": "2020-06-30T03:39:00.631954Z",
     "start_time": "2020-06-30T03:39:00.616953Z"
    }
   },
   "outputs": [],
   "source": [
    "def features(image_label, cnt):\n",
    "    areas = []\n",
    "    centers = []\n",
    "    lengths = []\n",
    "    ratios = []\n",
    "    \n",
    "    for i in range(cnt):\n",
    "        cx, cy, area = calc_size(image_label, i+100)\n",
    "        centers.append((cx,cy))\n",
    "        areas.append(area)\n",
    "        print(i+100, cx, cy, area, end=\" \")\n",
    "        length = calc_length(image_label, i+100)\n",
    "        lengths.append(length)\n",
    "        ratio = 4*np.pi*area / (length*length)\n",
    "        ratios.append(ratio)\n",
    "        print(length, ratio)\n",
    "        \n",
    "    return (areas, centers, lengths, ratios)"
   ]
  },
  {
   "cell_type": "code",
   "execution_count": 40,
   "metadata": {
    "ExecuteTime": {
     "end_time": "2020-06-30T03:39:03.455115Z",
     "start_time": "2020-06-30T03:39:01.374996Z"
    }
   },
   "outputs": [
    {
     "name": "stdout",
     "output_type": "stream",
     "text": [
      "100 114 79 4880 263.7645019878176 0.8814486001080429\n",
      "101 192 168 1108 168.2253967444163 0.49200158512447256\n",
      "102 81 163 2759 241.6568542494924 0.5936949146124189\n"
     ]
    }
   ],
   "source": [
    "img = cv2.imread('shape.png', 0)\n",
    "ret, bin_img = cv2.threshold(img, 128, 255, cv2.THRESH_BINARY)\n",
    "labeled_img, cnt = labeling(bin_img, 100)\n",
    "feat = features(labeled_img, cnt)"
   ]
  },
  {
   "cell_type": "code",
   "execution_count": null,
   "metadata": {},
   "outputs": [],
   "source": []
  }
 ],
 "metadata": {
  "kernelspec": {
   "display_name": "Python 3",
   "language": "python",
   "name": "python3"
  },
  "language_info": {
   "codemirror_mode": {
    "name": "ipython",
    "version": 3
   },
   "file_extension": ".py",
   "mimetype": "text/x-python",
   "name": "python",
   "nbconvert_exporter": "python",
   "pygments_lexer": "ipython3",
   "version": "3.7.6"
  },
  "toc": {
   "base_numbering": 1,
   "nav_menu": {},
   "number_sections": true,
   "sideBar": true,
   "skip_h1_title": false,
   "title_cell": "Table of Contents",
   "title_sidebar": "Contents",
   "toc_cell": false,
   "toc_position": {},
   "toc_section_display": true,
   "toc_window_display": true
  },
  "varInspector": {
   "cols": {
    "lenName": 16,
    "lenType": 16,
    "lenVar": 40
   },
   "kernels_config": {
    "python": {
     "delete_cmd_postfix": "",
     "delete_cmd_prefix": "del ",
     "library": "var_list.py",
     "varRefreshCmd": "print(var_dic_list())"
    },
    "r": {
     "delete_cmd_postfix": ") ",
     "delete_cmd_prefix": "rm(",
     "library": "var_list.r",
     "varRefreshCmd": "cat(var_dic_list()) "
    }
   },
   "types_to_exclude": [
    "module",
    "function",
    "builtin_function_or_method",
    "instance",
    "_Feature"
   ],
   "window_display": false
  }
 },
 "nbformat": 4,
 "nbformat_minor": 4
}
